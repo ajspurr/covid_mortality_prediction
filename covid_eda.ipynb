{
 "cells": [
  {
   "cell_type": "code",
   "execution_count": 3,
   "id": "8ca5d010",
   "metadata": {},
   "outputs": [],
   "source": [
    "import os\n",
    "import numpy as np\n",
    "import pandas as pd"
   ]
  },
  {
   "cell_type": "code",
   "execution_count": 2,
   "id": "ab7eee77",
   "metadata": {},
   "outputs": [
    {
     "data": {
      "text/plain": [
       "'D:\\\\GitHubProjects\\\\covid_mortality_prediction'"
      ]
     },
     "execution_count": 2,
     "metadata": {},
     "output_type": "execute_result"
    }
   ],
   "source": [
    "os.getcwd()"
   ]
  },
  {
   "cell_type": "code",
   "execution_count": 5,
   "id": "b9c811bd",
   "metadata": {},
   "outputs": [
    {
     "data": {
      "text/plain": [
       "'..\\\\synthea_covid19_data\\\\100k_synthea_covid19_csv\\\\'"
      ]
     },
     "execution_count": 5,
     "metadata": {},
     "output_type": "execute_result"
    }
   ],
   "source": [
    "data_dir = '..\\\\synthea_covid19_data\\\\100k_synthea_covid19_csv\\\\'\n",
    "data_dir"
   ]
  },
  {
   "cell_type": "code",
   "execution_count": 6,
   "id": "fb18da39",
   "metadata": {},
   "outputs": [],
   "source": [
    "patients = pd.read_csv(data_dir+'patients.csv', nrows=20)"
   ]
  },
  {
   "cell_type": "code",
   "execution_count": 8,
   "id": "6c860900",
   "metadata": {},
   "outputs": [
    {
     "data": {
      "text/plain": [
       "Index(['Id', 'BIRTHDATE', 'DEATHDATE', 'SSN', 'DRIVERS', 'PASSPORT', 'PREFIX',\n",
       "       'FIRST', 'LAST', 'SUFFIX', 'MAIDEN', 'MARITAL', 'RACE', 'ETHNICITY',\n",
       "       'GENDER', 'BIRTHPLACE', 'ADDRESS', 'CITY', 'STATE', 'COUNTY', 'ZIP',\n",
       "       'LAT', 'LON', 'HEALTHCARE_EXPENSES', 'HEALTHCARE_COVERAGE'],\n",
       "      dtype='object')"
      ]
     },
     "execution_count": 8,
     "metadata": {},
     "output_type": "execute_result"
    }
   ],
   "source": [
    "patients.columns"
   ]
  },
  {
   "cell_type": "code",
   "execution_count": 11,
   "id": "ab903787",
   "metadata": {},
   "outputs": [
    {
     "data": {
      "text/html": [
       "<div>\n",
       "<style scoped>\n",
       "    .dataframe tbody tr th:only-of-type {\n",
       "        vertical-align: middle;\n",
       "    }\n",
       "\n",
       "    .dataframe tbody tr th {\n",
       "        vertical-align: top;\n",
       "    }\n",
       "\n",
       "    .dataframe thead th {\n",
       "        text-align: right;\n",
       "    }\n",
       "</style>\n",
       "<table border=\"1\" class=\"dataframe\">\n",
       "  <thead>\n",
       "    <tr style=\"text-align: right;\">\n",
       "      <th></th>\n",
       "      <th>Id</th>\n",
       "      <th>BIRTHDATE</th>\n",
       "      <th>DEATHDATE</th>\n",
       "      <th>SSN</th>\n",
       "      <th>DRIVERS</th>\n",
       "      <th>PASSPORT</th>\n",
       "      <th>PREFIX</th>\n",
       "      <th>FIRST</th>\n",
       "      <th>LAST</th>\n",
       "      <th>SUFFIX</th>\n",
       "      <th>...</th>\n",
       "      <th>BIRTHPLACE</th>\n",
       "      <th>ADDRESS</th>\n",
       "      <th>CITY</th>\n",
       "      <th>STATE</th>\n",
       "      <th>COUNTY</th>\n",
       "      <th>ZIP</th>\n",
       "      <th>LAT</th>\n",
       "      <th>LON</th>\n",
       "      <th>HEALTHCARE_EXPENSES</th>\n",
       "      <th>HEALTHCARE_COVERAGE</th>\n",
       "    </tr>\n",
       "  </thead>\n",
       "  <tbody>\n",
       "    <tr>\n",
       "      <th>14</th>\n",
       "      <td>29581d13-2687-402f-9c4c-06141a319e61</td>\n",
       "      <td>2000-12-19</td>\n",
       "      <td>NaN</td>\n",
       "      <td>999-28-2716</td>\n",
       "      <td>S99985509</td>\n",
       "      <td>NaN</td>\n",
       "      <td>Ms.</td>\n",
       "      <td>Carmelia328</td>\n",
       "      <td>Konopelski743</td>\n",
       "      <td>NaN</td>\n",
       "      <td>...</td>\n",
       "      <td>Lee  Massachusetts  US</td>\n",
       "      <td>1025 Collier Arcade</td>\n",
       "      <td>Ashland</td>\n",
       "      <td>Massachusetts</td>\n",
       "      <td>Middlesex County</td>\n",
       "      <td>NaN</td>\n",
       "      <td>42.291986</td>\n",
       "      <td>-71.463724</td>\n",
       "      <td>439502.18</td>\n",
       "      <td>72357.13</td>\n",
       "    </tr>\n",
       "  </tbody>\n",
       "</table>\n",
       "<p>1 rows × 25 columns</p>\n",
       "</div>"
      ],
      "text/plain": [
       "                                      Id   BIRTHDATE  DEATHDATE          SSN  \\\n",
       "14  29581d13-2687-402f-9c4c-06141a319e61  2000-12-19        NaN  999-28-2716   \n",
       "\n",
       "      DRIVERS PASSPORT PREFIX        FIRST           LAST  SUFFIX  ...  \\\n",
       "14  S99985509      NaN    Ms.  Carmelia328  Konopelski743     NaN  ...   \n",
       "\n",
       "                BIRTHPLACE              ADDRESS     CITY          STATE  \\\n",
       "14  Lee  Massachusetts  US  1025 Collier Arcade  Ashland  Massachusetts   \n",
       "\n",
       "              COUNTY ZIP        LAT        LON HEALTHCARE_EXPENSES  \\\n",
       "14  Middlesex County NaN  42.291986 -71.463724           439502.18   \n",
       "\n",
       "   HEALTHCARE_COVERAGE  \n",
       "14            72357.13  \n",
       "\n",
       "[1 rows x 25 columns]"
      ]
     },
     "execution_count": 11,
     "metadata": {},
     "output_type": "execute_result"
    }
   ],
   "source": [
    "patients.sample()"
   ]
  },
  {
   "cell_type": "code",
   "execution_count": null,
   "id": "68718261",
   "metadata": {},
   "outputs": [],
   "source": [
    "# Remove a few unnecessary columns to allow for easier visualization\n",
    "patients.drop"
   ]
  }
 ],
 "metadata": {
  "kernelspec": {
   "display_name": "Python 3 (ipykernel)",
   "language": "python",
   "name": "python3"
  },
  "language_info": {
   "codemirror_mode": {
    "name": "ipython",
    "version": 3
   },
   "file_extension": ".py",
   "mimetype": "text/x-python",
   "name": "python",
   "nbconvert_exporter": "python",
   "pygments_lexer": "ipython3",
   "version": "3.8.13"
  }
 },
 "nbformat": 4,
 "nbformat_minor": 5
}
