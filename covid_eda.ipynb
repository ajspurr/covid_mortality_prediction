{
 "cells": [
  {
   "cell_type": "code",
   "execution_count": 1,
   "id": "208d32ec",
   "metadata": {},
   "outputs": [],
   "source": [
    "import os\n",
    "import numpy as np\n",
    "import pandas as pd"
   ]
  },
  {
   "cell_type": "code",
   "execution_count": 2,
   "id": "b01d8080",
   "metadata": {},
   "outputs": [
    {
     "data": {
      "text/plain": [
       "'D:\\\\GitHubProjects\\\\covid_mortality_prediction'"
      ]
     },
     "execution_count": 2,
     "metadata": {},
     "output_type": "execute_result"
    }
   ],
   "source": [
    "os.getcwd()"
   ]
  },
  {
   "cell_type": "code",
   "execution_count": 3,
   "id": "f18ec34b",
   "metadata": {},
   "outputs": [
    {
     "data": {
      "text/plain": [
       "'..\\\\synthea_covid19_data\\\\100k_synthea_covid19_csv\\\\'"
      ]
     },
     "execution_count": 3,
     "metadata": {},
     "output_type": "execute_result"
    }
   ],
   "source": [
    "data_dir = '..\\\\synthea_covid19_data\\\\100k_synthea_covid19_csv\\\\'\n",
    "data_dir"
   ]
  },
  {
   "cell_type": "code",
   "execution_count": 4,
   "id": "00c4f93d",
   "metadata": {},
   "outputs": [],
   "source": [
    "patients = pd.read_csv(data_dir+'patients.csv', nrows=20)"
   ]
  },
  {
   "cell_type": "code",
   "execution_count": 5,
   "id": "5d04efb0",
   "metadata": {},
   "outputs": [
    {
     "data": {
      "text/plain": [
       "Index(['Id', 'BIRTHDATE', 'DEATHDATE', 'SSN', 'DRIVERS', 'PASSPORT', 'PREFIX',\n",
       "       'FIRST', 'LAST', 'SUFFIX', 'MAIDEN', 'MARITAL', 'RACE', 'ETHNICITY',\n",
       "       'GENDER', 'BIRTHPLACE', 'ADDRESS', 'CITY', 'STATE', 'COUNTY', 'ZIP',\n",
       "       'LAT', 'LON', 'HEALTHCARE_EXPENSES', 'HEALTHCARE_COVERAGE'],\n",
       "      dtype='object')"
      ]
     },
     "execution_count": 5,
     "metadata": {},
     "output_type": "execute_result"
    }
   ],
   "source": [
    "patients.columns"
   ]
  },
  {
   "cell_type": "code",
   "execution_count": 6,
   "id": "c6fc7c81",
   "metadata": {},
   "outputs": [
    {
     "data": {
      "text/html": [
       "<div>\n",
       "<style scoped>\n",
       "    .dataframe tbody tr th:only-of-type {\n",
       "        vertical-align: middle;\n",
       "    }\n",
       "\n",
       "    .dataframe tbody tr th {\n",
       "        vertical-align: top;\n",
       "    }\n",
       "\n",
       "    .dataframe thead th {\n",
       "        text-align: right;\n",
       "    }\n",
       "</style>\n",
       "<table border=\"1\" class=\"dataframe\">\n",
       "  <thead>\n",
       "    <tr style=\"text-align: right;\">\n",
       "      <th></th>\n",
       "      <th>Id</th>\n",
       "      <th>BIRTHDATE</th>\n",
       "      <th>DEATHDATE</th>\n",
       "      <th>SSN</th>\n",
       "      <th>DRIVERS</th>\n",
       "      <th>PASSPORT</th>\n",
       "      <th>PREFIX</th>\n",
       "      <th>FIRST</th>\n",
       "      <th>LAST</th>\n",
       "      <th>SUFFIX</th>\n",
       "      <th>...</th>\n",
       "      <th>BIRTHPLACE</th>\n",
       "      <th>ADDRESS</th>\n",
       "      <th>CITY</th>\n",
       "      <th>STATE</th>\n",
       "      <th>COUNTY</th>\n",
       "      <th>ZIP</th>\n",
       "      <th>LAT</th>\n",
       "      <th>LON</th>\n",
       "      <th>HEALTHCARE_EXPENSES</th>\n",
       "      <th>HEALTHCARE_COVERAGE</th>\n",
       "    </tr>\n",
       "  </thead>\n",
       "  <tbody>\n",
       "    <tr>\n",
       "      <th>4</th>\n",
       "      <td>bd1c4ffc-7f1d-4590-adbb-1d6533fb623e</td>\n",
       "      <td>2019-06-12</td>\n",
       "      <td>NaN</td>\n",
       "      <td>999-81-4349</td>\n",
       "      <td>NaN</td>\n",
       "      <td>NaN</td>\n",
       "      <td>NaN</td>\n",
       "      <td>Karyn217</td>\n",
       "      <td>Mueller846</td>\n",
       "      <td>NaN</td>\n",
       "      <td>...</td>\n",
       "      <td>New Bedford  Massachusetts  US</td>\n",
       "      <td>570 Abshire Forge Suite 32</td>\n",
       "      <td>Colrain</td>\n",
       "      <td>Massachusetts</td>\n",
       "      <td>Franklin County</td>\n",
       "      <td>NaN</td>\n",
       "      <td>42.74022</td>\n",
       "      <td>-72.722648</td>\n",
       "      <td>24130.0</td>\n",
       "      <td>903.28</td>\n",
       "    </tr>\n",
       "  </tbody>\n",
       "</table>\n",
       "<p>1 rows × 25 columns</p>\n",
       "</div>"
      ],
      "text/plain": [
       "                                     Id   BIRTHDATE  DEATHDATE          SSN  \\\n",
       "4  bd1c4ffc-7f1d-4590-adbb-1d6533fb623e  2019-06-12        NaN  999-81-4349   \n",
       "\n",
       "  DRIVERS PASSPORT PREFIX     FIRST        LAST  SUFFIX  ...  \\\n",
       "4     NaN      NaN    NaN  Karyn217  Mueller846     NaN  ...   \n",
       "\n",
       "                       BIRTHPLACE                     ADDRESS     CITY  \\\n",
       "4  New Bedford  Massachusetts  US  570 Abshire Forge Suite 32  Colrain   \n",
       "\n",
       "           STATE           COUNTY ZIP       LAT        LON  \\\n",
       "4  Massachusetts  Franklin County NaN  42.74022 -72.722648   \n",
       "\n",
       "  HEALTHCARE_EXPENSES HEALTHCARE_COVERAGE  \n",
       "4             24130.0              903.28  \n",
       "\n",
       "[1 rows x 25 columns]"
      ]
     },
     "execution_count": 6,
     "metadata": {},
     "output_type": "execute_result"
    }
   ],
   "source": [
    "patients.sample()"
   ]
  },
  {
   "cell_type": "code",
   "execution_count": 7,
   "id": "8a740fe8",
   "metadata": {},
   "outputs": [],
   "source": [
    "# Remove a few unnecessary columns to allow for easier visualization\n",
    "patients.drop(['SSN', 'DRIVERS', 'PASSPORT', 'PREFIX', 'FIRST', 'LAST', 'SUFFIX', 'MAIDEN'], axis=1, inplace=True)"
   ]
  },
  {
   "cell_type": "code",
   "execution_count": 8,
   "id": "6b712c67",
   "metadata": {},
   "outputs": [
    {
     "data": {
      "text/html": [
       "<div>\n",
       "<style scoped>\n",
       "    .dataframe tbody tr th:only-of-type {\n",
       "        vertical-align: middle;\n",
       "    }\n",
       "\n",
       "    .dataframe tbody tr th {\n",
       "        vertical-align: top;\n",
       "    }\n",
       "\n",
       "    .dataframe thead th {\n",
       "        text-align: right;\n",
       "    }\n",
       "</style>\n",
       "<table border=\"1\" class=\"dataframe\">\n",
       "  <thead>\n",
       "    <tr style=\"text-align: right;\">\n",
       "      <th></th>\n",
       "      <th>Id</th>\n",
       "      <th>BIRTHDATE</th>\n",
       "      <th>DEATHDATE</th>\n",
       "      <th>MARITAL</th>\n",
       "      <th>RACE</th>\n",
       "      <th>ETHNICITY</th>\n",
       "      <th>GENDER</th>\n",
       "      <th>BIRTHPLACE</th>\n",
       "      <th>ADDRESS</th>\n",
       "      <th>CITY</th>\n",
       "      <th>STATE</th>\n",
       "      <th>COUNTY</th>\n",
       "      <th>ZIP</th>\n",
       "      <th>LAT</th>\n",
       "      <th>LON</th>\n",
       "      <th>HEALTHCARE_EXPENSES</th>\n",
       "      <th>HEALTHCARE_COVERAGE</th>\n",
       "    </tr>\n",
       "  </thead>\n",
       "  <tbody>\n",
       "    <tr>\n",
       "      <th>3</th>\n",
       "      <td>cc3c806f-4a09-4a89-a990-4286450956be</td>\n",
       "      <td>1996-11-15</td>\n",
       "      <td>NaN</td>\n",
       "      <td>NaN</td>\n",
       "      <td>white</td>\n",
       "      <td>nonhispanic</td>\n",
       "      <td>M</td>\n",
       "      <td>Patras  Achaea  GR</td>\n",
       "      <td>1050 Lindgren Extension Apt 38</td>\n",
       "      <td>Boston</td>\n",
       "      <td>Massachusetts</td>\n",
       "      <td>Suffolk County</td>\n",
       "      <td>2135.0</td>\n",
       "      <td>42.352434</td>\n",
       "      <td>-71.02861</td>\n",
       "      <td>484758.46</td>\n",
       "      <td>3632.96</td>\n",
       "    </tr>\n",
       "  </tbody>\n",
       "</table>\n",
       "</div>"
      ],
      "text/plain": [
       "                                     Id   BIRTHDATE  DEATHDATE MARITAL   RACE  \\\n",
       "3  cc3c806f-4a09-4a89-a990-4286450956be  1996-11-15        NaN     NaN  white   \n",
       "\n",
       "     ETHNICITY GENDER          BIRTHPLACE                         ADDRESS  \\\n",
       "3  nonhispanic      M  Patras  Achaea  GR  1050 Lindgren Extension Apt 38   \n",
       "\n",
       "     CITY          STATE          COUNTY     ZIP        LAT       LON  \\\n",
       "3  Boston  Massachusetts  Suffolk County  2135.0  42.352434 -71.02861   \n",
       "\n",
       "   HEALTHCARE_EXPENSES  HEALTHCARE_COVERAGE  \n",
       "3            484758.46              3632.96  "
      ]
     },
     "execution_count": 8,
     "metadata": {},
     "output_type": "execute_result"
    }
   ],
   "source": [
    "patients.sample()"
   ]
  },
  {
   "cell_type": "markdown",
   "id": "6d2e3b6e",
   "metadata": {},
   "source": [
    "For now, will only keep basic demographic information and remove the rest. \n",
    "HEALTHCARE_COVERAGE may be a foreign key so keeping it for now \n",
    "HEALTHCARE_EXPENSES will be removed to prevent data leakage"
   ]
  },
  {
   "cell_type": "code",
   "execution_count": null,
   "id": "83384fa8",
   "metadata": {},
   "outputs": [],
   "source": [
    "# \n",
    "patients.drop(['BIRTHPLACE', 'ADDRESS', 'CITY', 'STATE','COUNTY', 'ZIP', 'LAT', 'LON', 'HEALTHCARE_EXPENSES'], axis=1, inplace=True)"
   ]
  },
  {
   "cell_type": "code",
   "execution_count": 12,
   "id": "ba0245ca",
   "metadata": {},
   "outputs": [
    {
     "data": {
      "text/html": [
       "<div>\n",
       "<style scoped>\n",
       "    .dataframe tbody tr th:only-of-type {\n",
       "        vertical-align: middle;\n",
       "    }\n",
       "\n",
       "    .dataframe tbody tr th {\n",
       "        vertical-align: top;\n",
       "    }\n",
       "\n",
       "    .dataframe thead th {\n",
       "        text-align: right;\n",
       "    }\n",
       "</style>\n",
       "<table border=\"1\" class=\"dataframe\">\n",
       "  <thead>\n",
       "    <tr style=\"text-align: right;\">\n",
       "      <th></th>\n",
       "      <th>Id</th>\n",
       "      <th>BIRTHDATE</th>\n",
       "      <th>DEATHDATE</th>\n",
       "      <th>MARITAL</th>\n",
       "      <th>RACE</th>\n",
       "      <th>ETHNICITY</th>\n",
       "      <th>GENDER</th>\n",
       "      <th>HEALTHCARE_COVERAGE</th>\n",
       "    </tr>\n",
       "  </thead>\n",
       "  <tbody>\n",
       "    <tr>\n",
       "      <th>7</th>\n",
       "      <td>682077f3-bd6b-462d-ac1c-c394ca8240d2</td>\n",
       "      <td>1983-12-12</td>\n",
       "      <td>NaN</td>\n",
       "      <td>M</td>\n",
       "      <td>white</td>\n",
       "      <td>nonhispanic</td>\n",
       "      <td>M</td>\n",
       "      <td>3148.04</td>\n",
       "    </tr>\n",
       "  </tbody>\n",
       "</table>\n",
       "</div>"
      ],
      "text/plain": [
       "                                     Id   BIRTHDATE  DEATHDATE MARITAL   RACE  \\\n",
       "7  682077f3-bd6b-462d-ac1c-c394ca8240d2  1983-12-12        NaN       M  white   \n",
       "\n",
       "     ETHNICITY GENDER  HEALTHCARE_COVERAGE  \n",
       "7  nonhispanic      M              3148.04  "
      ]
     },
     "execution_count": 12,
     "metadata": {},
     "output_type": "execute_result"
    }
   ],
   "source": [
    "patients.sample()"
   ]
  },
  {
   "cell_type": "markdown",
   "id": "b833ae02",
   "metadata": {},
   "source": [
    "Now read in the entire patient.csv file with only the relevant columns"
   ]
  },
  {
   "cell_type": "code",
   "execution_count": 13,
   "id": "e7e73778",
   "metadata": {},
   "outputs": [],
   "source": [
    "patients = pd.read_csv(data_dir+'patients.csv', usecols=['Id', 'BIRTHDATE', 'DEATHDATE', 'MARITAL', 'RACE', 'ETHNICITY',\n",
    "                                                         'GENDER', 'HEALTHCARE_COVERAGE'])"
   ]
  },
  {
   "cell_type": "code",
   "execution_count": 14,
   "id": "d16ca342",
   "metadata": {},
   "outputs": [
    {
     "data": {
      "text/html": [
       "<div>\n",
       "<style scoped>\n",
       "    .dataframe tbody tr th:only-of-type {\n",
       "        vertical-align: middle;\n",
       "    }\n",
       "\n",
       "    .dataframe tbody tr th {\n",
       "        vertical-align: top;\n",
       "    }\n",
       "\n",
       "    .dataframe thead th {\n",
       "        text-align: right;\n",
       "    }\n",
       "</style>\n",
       "<table border=\"1\" class=\"dataframe\">\n",
       "  <thead>\n",
       "    <tr style=\"text-align: right;\">\n",
       "      <th></th>\n",
       "      <th>Id</th>\n",
       "      <th>BIRTHDATE</th>\n",
       "      <th>DEATHDATE</th>\n",
       "      <th>MARITAL</th>\n",
       "      <th>RACE</th>\n",
       "      <th>ETHNICITY</th>\n",
       "      <th>GENDER</th>\n",
       "      <th>HEALTHCARE_COVERAGE</th>\n",
       "    </tr>\n",
       "  </thead>\n",
       "  <tbody>\n",
       "    <tr>\n",
       "      <th>10262</th>\n",
       "      <td>faeeed09-19c4-4a3e-8b89-c39059536993</td>\n",
       "      <td>1972-05-10</td>\n",
       "      <td>NaN</td>\n",
       "      <td>M</td>\n",
       "      <td>white</td>\n",
       "      <td>hispanic</td>\n",
       "      <td>M</td>\n",
       "      <td>45264.21</td>\n",
       "    </tr>\n",
       "  </tbody>\n",
       "</table>\n",
       "</div>"
      ],
      "text/plain": [
       "                                         Id   BIRTHDATE DEATHDATE MARITAL  \\\n",
       "10262  faeeed09-19c4-4a3e-8b89-c39059536993  1972-05-10       NaN       M   \n",
       "\n",
       "        RACE ETHNICITY GENDER  HEALTHCARE_COVERAGE  \n",
       "10262  white  hispanic      M             45264.21  "
      ]
     },
     "execution_count": 14,
     "metadata": {},
     "output_type": "execute_result"
    }
   ],
   "source": [
    "patients.sample()"
   ]
  },
  {
   "cell_type": "code",
   "execution_count": 15,
   "id": "eed43737",
   "metadata": {},
   "outputs": [],
   "source": [
    "def feature_summary(dataset):\n",
    "    feature_summary = pd.DataFrame()\n",
    "    feature_summary['Data Type'] = dataset.dtypes\n",
    "    feature_summary['Num Unique'] = dataset.nunique()\n",
    "    feature_summary['Num Missing'] = dataset.isnull().sum()\n",
    "    feature_summary['% Missing'] = round((feature_summary['Num Missing'] / len(dataset.index)) * 100, 2)\n",
    "\n",
    "    # Grab info from dataset.describe()\n",
    "    numerical_var_info = dataset.describe().T\n",
    "    feature_summary['Min'] = np.round(numerical_var_info['min'], 2)\n",
    "    feature_summary['Max'] = np.round(numerical_var_info['max'], 2)\n",
    "    feature_summary['Mean'] = np.round(numerical_var_info['mean'], 2)\n",
    "    feature_summary['Median'] = np.round(numerical_var_info['50%'], 2)\n",
    "    feature_summary['Std'] = np.round(numerical_var_info['std'], 2)\n",
    "    \n",
    "    return feature_summary"
   ]
  },
  {
   "cell_type": "code",
   "execution_count": 16,
   "id": "0b883cc0",
   "metadata": {},
   "outputs": [
    {
     "data": {
      "text/html": [
       "<div>\n",
       "<style scoped>\n",
       "    .dataframe tbody tr th:only-of-type {\n",
       "        vertical-align: middle;\n",
       "    }\n",
       "\n",
       "    .dataframe tbody tr th {\n",
       "        vertical-align: top;\n",
       "    }\n",
       "\n",
       "    .dataframe thead th {\n",
       "        text-align: right;\n",
       "    }\n",
       "</style>\n",
       "<table border=\"1\" class=\"dataframe\">\n",
       "  <thead>\n",
       "    <tr style=\"text-align: right;\">\n",
       "      <th></th>\n",
       "      <th>Data Type</th>\n",
       "      <th>Num Unique</th>\n",
       "      <th>Num Missing</th>\n",
       "      <th>% Missing</th>\n",
       "      <th>Min</th>\n",
       "      <th>Max</th>\n",
       "      <th>Mean</th>\n",
       "      <th>Median</th>\n",
       "      <th>Std</th>\n",
       "    </tr>\n",
       "  </thead>\n",
       "  <tbody>\n",
       "    <tr>\n",
       "      <th>Id</th>\n",
       "      <td>object</td>\n",
       "      <td>124150</td>\n",
       "      <td>0</td>\n",
       "      <td>0.00</td>\n",
       "      <td>NaN</td>\n",
       "      <td>NaN</td>\n",
       "      <td>NaN</td>\n",
       "      <td>NaN</td>\n",
       "      <td>NaN</td>\n",
       "    </tr>\n",
       "    <tr>\n",
       "      <th>BIRTHDATE</th>\n",
       "      <td>object</td>\n",
       "      <td>31098</td>\n",
       "      <td>0</td>\n",
       "      <td>0.00</td>\n",
       "      <td>NaN</td>\n",
       "      <td>NaN</td>\n",
       "      <td>NaN</td>\n",
       "      <td>NaN</td>\n",
       "      <td>NaN</td>\n",
       "    </tr>\n",
       "    <tr>\n",
       "      <th>DEATHDATE</th>\n",
       "      <td>object</td>\n",
       "      <td>12318</td>\n",
       "      <td>100000</td>\n",
       "      <td>80.55</td>\n",
       "      <td>NaN</td>\n",
       "      <td>NaN</td>\n",
       "      <td>NaN</td>\n",
       "      <td>NaN</td>\n",
       "      <td>NaN</td>\n",
       "    </tr>\n",
       "    <tr>\n",
       "      <th>MARITAL</th>\n",
       "      <td>object</td>\n",
       "      <td>2</td>\n",
       "      <td>36121</td>\n",
       "      <td>29.09</td>\n",
       "      <td>NaN</td>\n",
       "      <td>NaN</td>\n",
       "      <td>NaN</td>\n",
       "      <td>NaN</td>\n",
       "      <td>NaN</td>\n",
       "    </tr>\n",
       "    <tr>\n",
       "      <th>RACE</th>\n",
       "      <td>object</td>\n",
       "      <td>5</td>\n",
       "      <td>0</td>\n",
       "      <td>0.00</td>\n",
       "      <td>NaN</td>\n",
       "      <td>NaN</td>\n",
       "      <td>NaN</td>\n",
       "      <td>NaN</td>\n",
       "      <td>NaN</td>\n",
       "    </tr>\n",
       "    <tr>\n",
       "      <th>ETHNICITY</th>\n",
       "      <td>object</td>\n",
       "      <td>2</td>\n",
       "      <td>0</td>\n",
       "      <td>0.00</td>\n",
       "      <td>NaN</td>\n",
       "      <td>NaN</td>\n",
       "      <td>NaN</td>\n",
       "      <td>NaN</td>\n",
       "      <td>NaN</td>\n",
       "    </tr>\n",
       "    <tr>\n",
       "      <th>GENDER</th>\n",
       "      <td>object</td>\n",
       "      <td>2</td>\n",
       "      <td>0</td>\n",
       "      <td>0.00</td>\n",
       "      <td>NaN</td>\n",
       "      <td>NaN</td>\n",
       "      <td>NaN</td>\n",
       "      <td>NaN</td>\n",
       "      <td>NaN</td>\n",
       "    </tr>\n",
       "    <tr>\n",
       "      <th>HEALTHCARE_COVERAGE</th>\n",
       "      <td>float64</td>\n",
       "      <td>74160</td>\n",
       "      <td>0</td>\n",
       "      <td>0.00</td>\n",
       "      <td>0.0</td>\n",
       "      <td>2146427.06</td>\n",
       "      <td>13004.98</td>\n",
       "      <td>6003.64</td>\n",
       "      <td>42643.27</td>\n",
       "    </tr>\n",
       "  </tbody>\n",
       "</table>\n",
       "</div>"
      ],
      "text/plain": [
       "                    Data Type  Num Unique  Num Missing  % Missing  Min  \\\n",
       "Id                     object      124150            0       0.00  NaN   \n",
       "BIRTHDATE              object       31098            0       0.00  NaN   \n",
       "DEATHDATE              object       12318       100000      80.55  NaN   \n",
       "MARITAL                object           2        36121      29.09  NaN   \n",
       "RACE                   object           5            0       0.00  NaN   \n",
       "ETHNICITY              object           2            0       0.00  NaN   \n",
       "GENDER                 object           2            0       0.00  NaN   \n",
       "HEALTHCARE_COVERAGE   float64       74160            0       0.00  0.0   \n",
       "\n",
       "                            Max      Mean   Median       Std  \n",
       "Id                          NaN       NaN      NaN       NaN  \n",
       "BIRTHDATE                   NaN       NaN      NaN       NaN  \n",
       "DEATHDATE                   NaN       NaN      NaN       NaN  \n",
       "MARITAL                     NaN       NaN      NaN       NaN  \n",
       "RACE                        NaN       NaN      NaN       NaN  \n",
       "ETHNICITY                   NaN       NaN      NaN       NaN  \n",
       "GENDER                      NaN       NaN      NaN       NaN  \n",
       "HEALTHCARE_COVERAGE  2146427.06  13004.98  6003.64  42643.27  "
      ]
     },
     "execution_count": 16,
     "metadata": {},
     "output_type": "execute_result"
    }
   ],
   "source": [
    "feature_summary(patients)"
   ]
  }
 ],
 "metadata": {
  "kernelspec": {
   "display_name": "Python 3 (ipykernel)",
   "language": "python",
   "name": "python3"
  },
  "language_info": {
   "codemirror_mode": {
    "name": "ipython",
    "version": 3
   },
   "file_extension": ".py",
   "mimetype": "text/x-python",
   "name": "python",
   "nbconvert_exporter": "python",
   "pygments_lexer": "ipython3",
   "version": "3.8.13"
  }
 },
 "nbformat": 4,
 "nbformat_minor": 5
}
